{
 "cells": [
  {
   "cell_type": "code",
   "execution_count": 1,
   "id": "0f7525ba",
   "metadata": {},
   "outputs": [
    {
     "name": "stdout",
     "output_type": "stream",
     "text": [
      "Hello world\n"
     ]
    }
   ],
   "source": [
    "print('Hello world')"
   ]
  },
  {
   "cell_type": "code",
   "execution_count": 2,
   "id": "b9c3f711",
   "metadata": {},
   "outputs": [
    {
     "name": "stdout",
     "output_type": "stream",
     "text": [
      "Sethyne is Dwumanoate\n"
     ]
    }
   ],
   "source": [
    "print(\"Sethyne is Dwumanoate\")"
   ]
  },
  {
   "cell_type": "markdown",
   "id": "00b8a2be",
   "metadata": {},
   "source": [
    "### Data types"
   ]
  },
  {
   "cell_type": "markdown",
   "id": "4c2c91cb",
   "metadata": {},
   "source": [
    "#### Data types"
   ]
  },
  {
   "cell_type": "markdown",
   "id": "5c23a315",
   "metadata": {},
   "source": [
    "##### Data types"
   ]
  },
  {
   "cell_type": "code",
   "execution_count": 3,
   "id": "ffb8ba63",
   "metadata": {},
   "outputs": [
    {
     "data": {
      "text/plain": [
       "int"
      ]
     },
     "execution_count": 3,
     "metadata": {},
     "output_type": "execute_result"
    }
   ],
   "source": [
    "x = 10\n",
    "type(x)"
   ]
  },
  {
   "cell_type": "code",
   "execution_count": 4,
   "id": "f0c32c37",
   "metadata": {},
   "outputs": [
    {
     "data": {
      "text/plain": [
       "float"
      ]
     },
     "execution_count": 4,
     "metadata": {},
     "output_type": "execute_result"
    }
   ],
   "source": [
    "y= 23.1\n",
    "type(y)"
   ]
  },
  {
   "cell_type": "code",
   "execution_count": 5,
   "id": "c0be8f03",
   "metadata": {},
   "outputs": [
    {
     "data": {
      "text/plain": [
       "str"
      ]
     },
     "execution_count": 5,
     "metadata": {},
     "output_type": "execute_result"
    }
   ],
   "source": [
    "s = 'Sethyne'\n",
    "type(s)"
   ]
  },
  {
   "cell_type": "code",
   "execution_count": 6,
   "id": "89ba930d",
   "metadata": {},
   "outputs": [
    {
     "data": {
      "text/plain": [
       "bool"
      ]
     },
     "execution_count": 6,
     "metadata": {},
     "output_type": "execute_result"
    }
   ],
   "source": [
    "a = True\n",
    "type(a)"
   ]
  },
  {
   "cell_type": "code",
   "execution_count": 7,
   "id": "2d319757",
   "metadata": {},
   "outputs": [
    {
     "data": {
      "text/plain": [
       "bool"
      ]
     },
     "execution_count": 7,
     "metadata": {},
     "output_type": "execute_result"
    }
   ],
   "source": [
    "b= False\n",
    "type(b)"
   ]
  },
  {
   "cell_type": "markdown",
   "id": "a524e850",
   "metadata": {},
   "source": [
    "## Variables"
   ]
  },
  {
   "cell_type": "code",
   "execution_count": 9,
   "id": "78eb2c5d",
   "metadata": {},
   "outputs": [
    {
     "data": {
      "text/plain": [
       "('Abyt', 'tyue')"
      ]
     },
     "execution_count": 9,
     "metadata": {},
     "output_type": "execute_result"
    }
   ],
   "source": [
    "names = \"Abyt\",\"tyue\"\n",
    "names"
   ]
  },
  {
   "cell_type": "markdown",
   "id": "7d009611",
   "metadata": {},
   "source": [
    "##### Variable names can not start with numbers\n"
   ]
  },
  {
   "cell_type": "code",
   "execution_count": 10,
   "id": "aa2ae12e",
   "metadata": {},
   "outputs": [
    {
     "ename": "SyntaxError",
     "evalue": "invalid syntax (1363190037.py, line 1)",
     "output_type": "error",
     "traceback": [
      "\u001b[1;36m  Input \u001b[1;32mIn [10]\u001b[1;36m\u001b[0m\n\u001b[1;33m    2names = \"Ahy\",\"Yagy\"\u001b[0m\n\u001b[1;37m     ^\u001b[0m\n\u001b[1;31mSyntaxError\u001b[0m\u001b[1;31m:\u001b[0m invalid syntax\n"
     ]
    }
   ],
   "source": [
    "2names = \"Ahy\",\"Yagy\""
   ]
  },
  {
   "cell_type": "markdown",
   "id": "b1c06efb",
   "metadata": {},
   "source": [
    "#### variable names cannot contain special characters except underscore"
   ]
  },
  {
   "cell_type": "code",
   "execution_count": 11,
   "id": "145bbfed",
   "metadata": {},
   "outputs": [
    {
     "ename": "SyntaxError",
     "evalue": "cannot assign to operator (1193167262.py, line 1)",
     "output_type": "error",
     "traceback": [
      "\u001b[1;36m  Input \u001b[1;32mIn [11]\u001b[1;36m\u001b[0m\n\u001b[1;33m    name-lists ='Ama','yua'\u001b[0m\n\u001b[1;37m    ^\u001b[0m\n\u001b[1;31mSyntaxError\u001b[0m\u001b[1;31m:\u001b[0m cannot assign to operator\n"
     ]
    }
   ],
   "source": [
    "name-lists ='Ama','yua'"
   ]
  },
  {
   "cell_type": "code",
   "execution_count": 14,
   "id": "db644b5d",
   "metadata": {},
   "outputs": [
    {
     "data": {
      "text/plain": [
       "('namey', 'poau')"
      ]
     },
     "execution_count": 14,
     "metadata": {},
     "output_type": "execute_result"
    }
   ],
   "source": [
    "name_list = \"namey\",'poau'\n",
    "name_list"
   ]
  },
  {
   "cell_type": "markdown",
   "id": "964901e8",
   "metadata": {},
   "source": [
    "\n",
    "##### Space is not allowed"
   ]
  },
  {
   "cell_type": "code",
   "execution_count": 12,
   "id": "6653a41d",
   "metadata": {},
   "outputs": [
    {
     "ename": "SyntaxError",
     "evalue": "invalid syntax (3291039798.py, line 1)",
     "output_type": "error",
     "traceback": [
      "\u001b[1;36m  Input \u001b[1;32mIn [12]\u001b[1;36m\u001b[0m\n\u001b[1;33m    name list = 'Anguish','Ahap'\u001b[0m\n\u001b[1;37m         ^\u001b[0m\n\u001b[1;31mSyntaxError\u001b[0m\u001b[1;31m:\u001b[0m invalid syntax\n"
     ]
    }
   ],
   "source": [
    "name list = 'Anguish','Ahap'"
   ]
  },
  {
   "cell_type": "code",
   "execution_count": 31,
   "id": "a9aea714",
   "metadata": {},
   "outputs": [
    {
     "data": {
      "text/plain": [
       "'Python*is*powerful'"
      ]
     },
     "execution_count": 31,
     "metadata": {},
     "output_type": "execute_result"
    }
   ],
   "source": [
    "title = \"Python*is*powerful\"\n",
    "title.strip(\"*\")"
   ]
  },
  {
   "cell_type": "markdown",
   "id": "d86194c9",
   "metadata": {},
   "source": [
    "## Lists"
   ]
  },
  {
   "cell_type": "markdown",
   "id": "2a430ba3",
   "metadata": {},
   "source": [
    "List is:\n",
    "-->heterogenous (multiple data)\n",
    "-->mutable (can make changes)\n"
   ]
  },
  {
   "cell_type": "code",
   "execution_count": 15,
   "id": "2375d584",
   "metadata": {},
   "outputs": [
    {
     "data": {
      "text/plain": [
       "[1, 3, 4, 5, 6, 'hey', 'man', -1, 3.8]"
      ]
     },
     "execution_count": 15,
     "metadata": {},
     "output_type": "execute_result"
    }
   ],
   "source": [
    "sample_list = [1,3,4,5,6,\"hey\",\"man\",-1,3.8]\n",
    "sample_list"
   ]
  },
  {
   "cell_type": "code",
   "execution_count": 16,
   "id": "27cb5761",
   "metadata": {},
   "outputs": [
    {
     "data": {
      "text/plain": [
       "4"
      ]
     },
     "execution_count": 16,
     "metadata": {},
     "output_type": "execute_result"
    }
   ],
   "source": [
    "sample_list[2]"
   ]
  },
  {
   "cell_type": "code",
   "execution_count": 17,
   "id": "d3a0007a",
   "metadata": {},
   "outputs": [
    {
     "data": {
      "text/plain": [
       "3.8"
      ]
     },
     "execution_count": 17,
     "metadata": {},
     "output_type": "execute_result"
    }
   ],
   "source": [
    "sample_list[8]"
   ]
  },
  {
   "cell_type": "code",
   "execution_count": 18,
   "id": "8cefe1d9",
   "metadata": {},
   "outputs": [
    {
     "data": {
      "text/plain": [
       "[4, 5, 6]"
      ]
     },
     "execution_count": 18,
     "metadata": {},
     "output_type": "execute_result"
    }
   ],
   "source": [
    "sample_list[2:5]"
   ]
  },
  {
   "cell_type": "code",
   "execution_count": 19,
   "id": "28b985d3",
   "metadata": {},
   "outputs": [
    {
     "data": {
      "text/plain": [
       "'man'"
      ]
     },
     "execution_count": 19,
     "metadata": {},
     "output_type": "execute_result"
    }
   ],
   "source": [
    "sample_list[-3]"
   ]
  },
  {
   "cell_type": "code",
   "execution_count": 21,
   "id": "14f7a056",
   "metadata": {},
   "outputs": [
    {
     "data": {
      "text/plain": [
       "[4, 5, 6, 'hey', 'man', -1]"
      ]
     },
     "execution_count": 21,
     "metadata": {},
     "output_type": "execute_result"
    }
   ],
   "source": [
    "sample_list[2:-1]"
   ]
  },
  {
   "cell_type": "code",
   "execution_count": 22,
   "id": "cb41e40d",
   "metadata": {},
   "outputs": [
    {
     "data": {
      "text/plain": [
       "list"
      ]
     },
     "execution_count": 22,
     "metadata": {},
     "output_type": "execute_result"
    }
   ],
   "source": [
    "type(sample_list)"
   ]
  },
  {
   "cell_type": "code",
   "execution_count": 32,
   "id": "1bfe70db",
   "metadata": {},
   "outputs": [
    {
     "data": {
      "text/plain": [
       "[1, 3, 4, 5, 23, 'hey', 'man', -1, 3.8]"
      ]
     },
     "execution_count": 32,
     "metadata": {},
     "output_type": "execute_result"
    }
   ],
   "source": [
    "sample_list[4] = 23\n",
    "sample_list"
   ]
  },
  {
   "cell_type": "markdown",
   "id": "ee99d890",
   "metadata": {},
   "source": [
    "## Tuple"
   ]
  },
  {
   "cell_type": "markdown",
   "id": "b40d05c5",
   "metadata": {},
   "source": [
    "Tuple is:\n",
    "--> heterogenous\n",
    "--> immutable"
   ]
  },
  {
   "cell_type": "code",
   "execution_count": 33,
   "id": "3ec0e8b7",
   "metadata": {},
   "outputs": [
    {
     "data": {
      "text/plain": [
       "(2, 4, 23, 'hi', -23, 'Paul')"
      ]
     },
     "execution_count": 33,
     "metadata": {},
     "output_type": "execute_result"
    }
   ],
   "source": [
    "sample_tuple = (2,4,23,'hi',-23,'Paul')\n",
    "sample_tuple"
   ]
  },
  {
   "cell_type": "code",
   "execution_count": 34,
   "id": "e0c726e0",
   "metadata": {},
   "outputs": [
    {
     "data": {
      "text/plain": [
       "2"
      ]
     },
     "execution_count": 34,
     "metadata": {},
     "output_type": "execute_result"
    }
   ],
   "source": [
    "sample_tuple[0]"
   ]
  },
  {
   "cell_type": "code",
   "execution_count": 35,
   "id": "d7c44774",
   "metadata": {},
   "outputs": [
    {
     "data": {
      "text/plain": [
       "-23"
      ]
     },
     "execution_count": 35,
     "metadata": {},
     "output_type": "execute_result"
    }
   ],
   "source": [
    "sample_tuple[4]"
   ]
  },
  {
   "cell_type": "code",
   "execution_count": 37,
   "id": "64a162ba",
   "metadata": {},
   "outputs": [
    {
     "ename": "TypeError",
     "evalue": "'tuple' object does not support item assignment",
     "output_type": "error",
     "traceback": [
      "\u001b[1;31m---------------------------------------------------------------------------\u001b[0m",
      "\u001b[1;31mTypeError\u001b[0m                                 Traceback (most recent call last)",
      "Input \u001b[1;32mIn [37]\u001b[0m, in \u001b[0;36m<cell line: 1>\u001b[1;34m()\u001b[0m\n\u001b[1;32m----> 1\u001b[0m sample_tuple[\u001b[38;5;241m0\u001b[39m]\u001b[38;5;241m=\u001b[39m \u001b[38;5;124m'\u001b[39m\u001b[38;5;124mwe\u001b[39m\u001b[38;5;124m'\u001b[39m\n",
      "\u001b[1;31mTypeError\u001b[0m: 'tuple' object does not support item assignment"
     ]
    }
   ],
   "source": [
    "sample_tuple[0]= 'we'"
   ]
  },
  {
   "cell_type": "code",
   "execution_count": 38,
   "id": "264a718b",
   "metadata": {},
   "outputs": [
    {
     "data": {
      "text/plain": [
       "tuple"
      ]
     },
     "execution_count": 38,
     "metadata": {},
     "output_type": "execute_result"
    }
   ],
   "source": [
    "type(sample_tuple)"
   ]
  },
  {
   "cell_type": "markdown",
   "id": "7393e0b0",
   "metadata": {},
   "source": [
    "## Dictionary\n",
    "\n",
    "Its mutable\n",
    "-->{}\n",
    "heterogenous"
   ]
  },
  {
   "cell_type": "code",
   "execution_count": 41,
   "id": "a6eb581a",
   "metadata": {},
   "outputs": [],
   "source": [
    "dict_1 = {'name':'Seth','age':39,'hobbies':['teaching','counselling','playing video games'],'values':['integrity','humility','discipline']}"
   ]
  },
  {
   "cell_type": "code",
   "execution_count": 42,
   "id": "0a271af4",
   "metadata": {},
   "outputs": [
    {
     "data": {
      "text/plain": [
       "{'name': 'Seth',\n",
       " 'age': 39,\n",
       " 'hobbies': ['teaching', 'counselling', 'playing video games'],\n",
       " 'values': ['integrity', 'humility', 'discipline']}"
      ]
     },
     "execution_count": 42,
     "metadata": {},
     "output_type": "execute_result"
    }
   ],
   "source": [
    "dict_1"
   ]
  },
  {
   "cell_type": "code",
   "execution_count": 45,
   "id": "b1379b4a",
   "metadata": {},
   "outputs": [
    {
     "data": {
      "text/plain": [
       "dict_values(['Seth', 39, ['teaching', 'counselling', 'playing video games'], ['integrity', 'humility', 'discipline']])"
      ]
     },
     "execution_count": 45,
     "metadata": {},
     "output_type": "execute_result"
    }
   ],
   "source": [
    "dict_1.values()"
   ]
  },
  {
   "cell_type": "code",
   "execution_count": 46,
   "id": "46d3a28b",
   "metadata": {},
   "outputs": [
    {
     "data": {
      "text/plain": [
       "dict_keys(['name', 'age', 'hobbies', 'values'])"
      ]
     },
     "execution_count": 46,
     "metadata": {},
     "output_type": "execute_result"
    }
   ],
   "source": [
    "dict_1.keys()"
   ]
  },
  {
   "cell_type": "code",
   "execution_count": 47,
   "id": "887ff4f4",
   "metadata": {},
   "outputs": [],
   "source": [
    "dict_1['name'] = 'sethyne'"
   ]
  },
  {
   "cell_type": "code",
   "execution_count": 48,
   "id": "337682af",
   "metadata": {},
   "outputs": [
    {
     "data": {
      "text/plain": [
       "{'name': 'sethyne',\n",
       " 'age': 39,\n",
       " 'hobbies': ['teaching', 'counselling', 'playing video games'],\n",
       " 'values': ['integrity', 'humility', 'discipline']}"
      ]
     },
     "execution_count": 48,
     "metadata": {},
     "output_type": "execute_result"
    }
   ],
   "source": [
    "dict_1"
   ]
  },
  {
   "cell_type": "code",
   "execution_count": 49,
   "id": "3f110b50",
   "metadata": {},
   "outputs": [
    {
     "data": {
      "text/plain": [
       "dict"
      ]
     },
     "execution_count": 49,
     "metadata": {},
     "output_type": "execute_result"
    }
   ],
   "source": [
    "type(dict_1)"
   ]
  },
  {
   "cell_type": "markdown",
   "id": "468d2789",
   "metadata": {},
   "source": [
    "## Set"
   ]
  },
  {
   "cell_type": "markdown",
   "id": "07af1daf",
   "metadata": {},
   "source": [
    "set is mutable only when you use add or remove, indexing is not allowed."
   ]
  },
  {
   "cell_type": "code",
   "execution_count": 50,
   "id": "9c9b7fcd",
   "metadata": {},
   "outputs": [
    {
     "data": {
      "text/plain": [
       "{-2, -3, 1, 11, 23, 3, 32.3, 44, 6, 'hello', 'sethyne'}"
      ]
     },
     "execution_count": 50,
     "metadata": {},
     "output_type": "execute_result"
    }
   ],
   "source": [
    "sample_set ={1,11,3,44,32.3,6,'sethyne','hello',-2,-3,23}\n",
    "sample_set"
   ]
  },
  {
   "cell_type": "code",
   "execution_count": 51,
   "id": "1394fb9f",
   "metadata": {},
   "outputs": [
    {
     "ename": "TypeError",
     "evalue": "'set' object is not subscriptable",
     "output_type": "error",
     "traceback": [
      "\u001b[1;31m---------------------------------------------------------------------------\u001b[0m",
      "\u001b[1;31mTypeError\u001b[0m                                 Traceback (most recent call last)",
      "Input \u001b[1;32mIn [51]\u001b[0m, in \u001b[0;36m<cell line: 1>\u001b[1;34m()\u001b[0m\n\u001b[1;32m----> 1\u001b[0m \u001b[43msample_set\u001b[49m\u001b[43m[\u001b[49m\u001b[38;5;241;43m0\u001b[39;49m\u001b[43m]\u001b[49m\n",
      "\u001b[1;31mTypeError\u001b[0m: 'set' object is not subscriptable"
     ]
    }
   ],
   "source": [
    "sample_set[0]"
   ]
  },
  {
   "cell_type": "code",
   "execution_count": 54,
   "id": "6c509377",
   "metadata": {},
   "outputs": [
    {
     "data": {
      "text/plain": [
       "{-2, -3, 1, 11, 12, 23, 3, 32.3, 44, 6, 'hello', 'sethyne'}"
      ]
     },
     "execution_count": 54,
     "metadata": {},
     "output_type": "execute_result"
    }
   ],
   "source": [
    "sample_set.add(12)\n",
    "sample_set\n"
   ]
  },
  {
   "cell_type": "code",
   "execution_count": 60,
   "id": "a88aa8cb",
   "metadata": {},
   "outputs": [
    {
     "data": {
      "text/plain": [
       "{-2, -3, 1, 12, 23, 3, 32.3, 44, 6, 'sethyne'}"
      ]
     },
     "execution_count": 60,
     "metadata": {},
     "output_type": "execute_result"
    }
   ],
   "source": [
    "sample_set.remove(11)\n",
    "sample_set"
   ]
  },
  {
   "cell_type": "code",
   "execution_count": null,
   "id": "84692eb3",
   "metadata": {},
   "outputs": [],
   "source": []
  },
  {
   "cell_type": "code",
   "execution_count": null,
   "id": "fa5a82e6",
   "metadata": {},
   "outputs": [],
   "source": []
  },
  {
   "cell_type": "code",
   "execution_count": null,
   "id": "9f51105d",
   "metadata": {},
   "outputs": [],
   "source": []
  }
 ],
 "metadata": {
  "kernelspec": {
   "display_name": "Python 3 (ipykernel)",
   "language": "python",
   "name": "python3"
  },
  "language_info": {
   "codemirror_mode": {
    "name": "ipython",
    "version": 3
   },
   "file_extension": ".py",
   "mimetype": "text/x-python",
   "name": "python",
   "nbconvert_exporter": "python",
   "pygments_lexer": "ipython3",
   "version": "3.9.12"
  }
 },
 "nbformat": 4,
 "nbformat_minor": 5
}
