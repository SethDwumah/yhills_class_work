{
 "cells": [
  {
   "cell_type": "code",
   "execution_count": 1,
   "id": "54e76b37",
   "metadata": {},
   "outputs": [
    {
     "name": "stdout",
     "output_type": "stream",
     "text": [
      "Hello world\n"
     ]
    }
   ],
   "source": [
    "print('Hello world')"
   ]
  },
  {
   "cell_type": "code",
   "execution_count": 2,
   "id": "cbb49ac5",
   "metadata": {},
   "outputs": [
    {
     "name": "stdout",
     "output_type": "stream",
     "text": [
      "Sethyne is Dwumanoate\n"
     ]
    }
   ],
   "source": [
    "print(\"Sethyne is Dwumanoate\")"
   ]
  },
  {
   "cell_type": "markdown",
   "id": "8d7f267d",
   "metadata": {},
   "source": [
    "### Data types"
   ]
  },
  {
   "cell_type": "markdown",
   "id": "0ace7e1d",
   "metadata": {},
   "source": [
    "#### Data types"
   ]
  },
  {
   "cell_type": "markdown",
   "id": "e50d7d5f",
   "metadata": {},
   "source": [
    "##### Data types"
   ]
  },
  {
   "cell_type": "markdown",
   "id": "1fca24b9",
   "metadata": {},
   "source": [
    "# Data types"
   ]
  },
  {
   "cell_type": "code",
   "execution_count": null,
   "id": "9b69c63f",
   "metadata": {},
   "outputs": [],
   "source": []
  },
  {
   "cell_type": "code",
   "execution_count": null,
   "id": "49b66bef",
   "metadata": {},
   "outputs": [],
   "source": []
  }
 ],
 "metadata": {
  "kernelspec": {
   "display_name": "Python 3 (ipykernel)",
   "language": "python",
   "name": "python3"
  },
  "language_info": {
   "codemirror_mode": {
    "name": "ipython",
    "version": 3
   },
   "file_extension": ".py",
   "mimetype": "text/x-python",
   "name": "python",
   "nbconvert_exporter": "python",
   "pygments_lexer": "ipython3",
   "version": "3.9.12"
  }
 },
 "nbformat": 4,
 "nbformat_minor": 5
}
